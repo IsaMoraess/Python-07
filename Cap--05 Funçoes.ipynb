{
 "cells": [
  {
   "cell_type": "markdown",
   "id": "522c3709",
   "metadata": {},
   "source": [
    "# Funçoes"
   ]
  },
  {
   "cell_type": "code",
   "execution_count": 1,
   "id": "1824b17b",
   "metadata": {},
   "outputs": [
    {
     "name": "stdout",
     "output_type": "stream",
     "text": [
      "Hello Word\n"
     ]
    }
   ],
   "source": [
    "print('Hello Word')"
   ]
  },
  {
   "cell_type": "code",
   "execution_count": 2,
   "id": "4d0aaa25",
   "metadata": {},
   "outputs": [],
   "source": [
    "# Definindo uma funçao\n",
    "def primeiraFunc():\n",
    "    print('Hello Word')"
   ]
  },
  {
   "cell_type": "code",
   "execution_count": 3,
   "id": "611194e2",
   "metadata": {},
   "outputs": [
    {
     "name": "stdout",
     "output_type": "stream",
     "text": [
      "Hello Word\n"
     ]
    }
   ],
   "source": [
    "primeiraFunc()"
   ]
  },
  {
   "cell_type": "code",
   "execution_count": 4,
   "id": "c5c8d806",
   "metadata": {},
   "outputs": [],
   "source": [
    "# Definindo uma\n",
    "def primeiraFunc():\n",
    "    nome = 'Bob'\n",
    "    print('Hello %s'%(nome))"
   ]
  },
  {
   "cell_type": "code",
   "execution_count": 5,
   "id": "fe688d5e",
   "metadata": {},
   "outputs": [
    {
     "name": "stdout",
     "output_type": "stream",
     "text": [
      "Hello Bob\n"
     ]
    }
   ],
   "source": [
    "primeiraFunc()"
   ]
  },
  {
   "cell_type": "code",
   "execution_count": 6,
   "id": "2b02ef16",
   "metadata": {},
   "outputs": [],
   "source": [
    "# Definindo uma funçao como Parametro\n",
    "def segundaFunc(nome):\n",
    "    print('Hello %s'%(nome))"
   ]
  },
  {
   "cell_type": "code",
   "execution_count": 7,
   "id": "d9d14f29",
   "metadata": {},
   "outputs": [
    {
     "name": "stdout",
     "output_type": "stream",
     "text": [
      "Hello Isabelly\n"
     ]
    }
   ],
   "source": [
    "segundaFunc('Isabelly')"
   ]
  },
  {
   "cell_type": "code",
   "execution_count": 8,
   "id": "59b57e1e",
   "metadata": {},
   "outputs": [],
   "source": [
    "# Funçao para imprimir numero\n",
    "def imprimeNumeros():\n",
    "    \n",
    "    # Loop\n",
    "    for i in range(0,5):\n",
    "        print(\"Numero\" + str(i))"
   ]
  },
  {
   "cell_type": "code",
   "execution_count": 9,
   "id": "00c04721",
   "metadata": {},
   "outputs": [
    {
     "name": "stdout",
     "output_type": "stream",
     "text": [
      "Numero0\n",
      "Numero1\n",
      "Numero2\n",
      "Numero3\n",
      "Numero4\n"
     ]
    }
   ],
   "source": [
    "imprimeNumeros()"
   ]
  },
  {
   "cell_type": "code",
   "execution_count": 10,
   "id": "18862a1b",
   "metadata": {},
   "outputs": [],
   "source": [
    "# Funçao para somar numeros\n",
    "def addNum(firatnum, secodnum):\n",
    "    print(\"Primeiro Numero:\" + str(firatnum))\n",
    "    print(\"Segundo Numero:\" + str(secodnum))\n",
    "    print(\"Soma: \", firatnum + secodnum)"
   ]
  },
  {
   "cell_type": "code",
   "execution_count": 11,
   "id": "56b04d82",
   "metadata": {},
   "outputs": [
    {
     "name": "stdout",
     "output_type": "stream",
     "text": [
      "Primeiro Numero:4\n",
      "Segundo Numero:7\n",
      "Soma:  11\n"
     ]
    }
   ],
   "source": [
    "# Chamando a funçao e passando parametro\n",
    "addNum(4, 7)"
   ]
  },
  {
   "cell_type": "code",
   "execution_count": 12,
   "id": "82d14f66",
   "metadata": {},
   "outputs": [
    {
     "name": "stdout",
     "output_type": "stream",
     "text": [
      "Primeiro Numero:45\n",
      "Segundo Numero:3\n",
      "Soma:  48\n"
     ]
    }
   ],
   "source": [
    "# Chamando a funçao e passando parametro\n",
    "addNum(45, 3)"
   ]
  },
  {
   "cell_type": "code",
   "execution_count": 15,
   "id": "5dfb2299",
   "metadata": {},
   "outputs": [],
   "source": [
    "# Funçoes com numero variavel de argumento\n",
    "def printVarInfo( arg1, *vartuple ):\n",
    "    # Imprimindo o valor da primeiro argumento\n",
    "    print(\"O parametro passado foi: \", arg1)\n",
    "    \n",
    "    # Imprimindo o valor do segundo argumento\n",
    "    for item in vartuple:\n",
    "        print(\"O parametro passado foi: \" , item)\n",
    "        return;"
   ]
  },
  {
   "cell_type": "code",
   "execution_count": 16,
   "id": "a0224b88",
   "metadata": {},
   "outputs": [
    {
     "name": "stdout",
     "output_type": "stream",
     "text": [
      "O parametro passado foi:  10\n"
     ]
    }
   ],
   "source": [
    "# Fazendo chamada a funçao usando apenas 1 argumento\n",
    "printVarInfo(10)"
   ]
  },
  {
   "cell_type": "code",
   "execution_count": 17,
   "id": "4ee632f7",
   "metadata": {},
   "outputs": [
    {
     "name": "stdout",
     "output_type": "stream",
     "text": [
      "O parametro passado foi:  Chocolate\n",
      "O parametro passado foi:  Morango\n"
     ]
    }
   ],
   "source": [
    "printVarInfo('Chocolate','Morango')"
   ]
  },
  {
   "cell_type": "code",
   "execution_count": 18,
   "id": "2880e4c4",
   "metadata": {},
   "outputs": [
    {
     "name": "stdout",
     "output_type": "stream",
     "text": [
      "O parametro passado foi:  Isabelly\n",
      "O parametro passado foi:  Moraes\n"
     ]
    }
   ],
   "source": [
    "printVarInfo('Isabelly','Moraes')"
   ]
  },
  {
   "cell_type": "markdown",
   "id": "7f0581c2",
   "metadata": {},
   "source": [
    "## Escopo de Variavel- Local e Global "
   ]
  },
  {
   "cell_type": "code",
   "execution_count": 8,
   "id": "6beebe54",
   "metadata": {},
   "outputs": [],
   "source": [
    "# Variavel Global\n",
    "var_glonal = 10  # Este e uma variavel global\n",
    "\n",
    "# Funçao\n",
    "def multiplica_numeros(num1, num2):\n",
    "    var_global =  num1 * num2  #Esta e uma variavel local\n",
    "    print(var_global)"
   ]
  },
  {
   "cell_type": "code",
   "execution_count": 9,
   "id": "f078f569",
   "metadata": {},
   "outputs": [
    {
     "name": "stdout",
     "output_type": "stream",
     "text": [
      "125\n"
     ]
    }
   ],
   "source": [
    "multiplica_numeros(5, 25)"
   ]
  },
  {
   "cell_type": "code",
   "execution_count": 10,
   "id": "00b11a40",
   "metadata": {},
   "outputs": [
    {
     "name": "stdout",
     "output_type": "stream",
     "text": [
      "10\n"
     ]
    }
   ],
   "source": [
    "print(var_global)"
   ]
  },
  {
   "cell_type": "code",
   "execution_count": 13,
   "id": "56a1f979",
   "metadata": {},
   "outputs": [],
   "source": [
    "# Variavel Global\n",
    "var_global = 10 # Esta e uma variavel global\n",
    "\n",
    "# Funçao \n",
    "def multiplica_numeros(num1, num2):\n",
    "        var_global = num1 * num2 #Esta e uma variavel local\n",
    "        print(var_global)"
   ]
  },
  {
   "cell_type": "code",
   "execution_count": 14,
   "id": "18c99c2e",
   "metadata": {},
   "outputs": [
    {
     "name": "stdout",
     "output_type": "stream",
     "text": [
      "125\n"
     ]
    }
   ],
   "source": [
    "multiplica_numeros(5, 25)"
   ]
  },
  {
   "cell_type": "code",
   "execution_count": 15,
   "id": "f837985a",
   "metadata": {},
   "outputs": [
    {
     "name": "stdout",
     "output_type": "stream",
     "text": [
      "10\n"
     ]
    }
   ],
   "source": [
    "print(var_global)"
   ]
  },
  {
   "cell_type": "markdown",
   "id": "50b3f944",
   "metadata": {},
   "source": [
    "## Funçoes Built-in "
   ]
  },
  {
   "cell_type": "code",
   "execution_count": 16,
   "id": "188dfd57",
   "metadata": {},
   "outputs": [
    {
     "data": {
      "text/plain": [
       "56"
      ]
     },
     "execution_count": 16,
     "metadata": {},
     "output_type": "execute_result"
    }
   ],
   "source": [
    "abs(-56)"
   ]
  },
  {
   "cell_type": "code",
   "execution_count": 17,
   "id": "76cbd606",
   "metadata": {},
   "outputs": [
    {
     "data": {
      "text/plain": [
       "23"
      ]
     },
     "execution_count": 17,
     "metadata": {},
     "output_type": "execute_result"
    }
   ],
   "source": [
    "abs(23)"
   ]
  },
  {
   "cell_type": "code",
   "execution_count": 18,
   "id": "d3567479",
   "metadata": {},
   "outputs": [
    {
     "data": {
      "text/plain": [
       "False"
      ]
     },
     "execution_count": 18,
     "metadata": {},
     "output_type": "execute_result"
    }
   ],
   "source": [
    "bool(0)"
   ]
  },
  {
   "cell_type": "code",
   "execution_count": 19,
   "id": "15d4d501",
   "metadata": {},
   "outputs": [
    {
     "data": {
      "text/plain": [
       "True"
      ]
     },
     "execution_count": 19,
     "metadata": {},
     "output_type": "execute_result"
    }
   ],
   "source": [
    "bool(1)"
   ]
  },
  {
   "cell_type": "code",
   "execution_count": 20,
   "id": "dfef6b1c",
   "metadata": {},
   "outputs": [
    {
     "data": {
      "text/plain": [
       "4"
      ]
     },
     "execution_count": 20,
     "metadata": {},
     "output_type": "execute_result"
    }
   ],
   "source": [
    "int(4.3)"
   ]
  },
  {
   "cell_type": "code",
   "execution_count": 21,
   "id": "4b1adfa5",
   "metadata": {},
   "outputs": [
    {
     "data": {
      "text/plain": [
       "'13'"
      ]
     },
     "execution_count": 21,
     "metadata": {},
     "output_type": "execute_result"
    }
   ],
   "source": [
    "str(13)"
   ]
  },
  {
   "cell_type": "code",
   "execution_count": 22,
   "id": "7d1f9cec",
   "metadata": {},
   "outputs": [
    {
     "data": {
      "text/plain": [
       "5.0"
      ]
     },
     "execution_count": 22,
     "metadata": {},
     "output_type": "execute_result"
    }
   ],
   "source": [
    "float(5)"
   ]
  },
  {
   "cell_type": "code",
   "execution_count": null,
   "id": "5274e761",
   "metadata": {},
   "outputs": [],
   "source": [
    "# Erro de executar por causa da conversao\n",
    "idade = input(\"Digite sua idade: \")\n",
    "if idade > 13:\n",
    "    print(\"Voce pode acessar Redes Sociais sem supervisao\")\n",
    "else:\n",
    "    print(\"Seus pais nao deveriam deixa vc, acessar redes sociais sem supervisao!\")"
   ]
  },
  {
   "cell_type": "code",
   "execution_count": null,
   "id": "26fb154a",
   "metadata": {},
   "outputs": [],
   "source": [
    "# Usando a funçao int para converter o valor digitado\n",
    "\n",
    "idade = int(input(\"Digite sua idade: \"))\n",
    "if idade > 13:\n",
    "    print(\"Voce pode acessar Redes Sociais sem supervisao\")\n",
    "else:\n",
    "    print(\"Seus pais nao deveriam deixa vc, acessar redes sociais sem supervisao!\")"
   ]
  },
  {
   "cell_type": "code",
   "execution_count": null,
   "id": "c0f159e4",
   "metadata": {},
   "outputs": [],
   "source": [
    "int(\"26\")"
   ]
  },
  {
   "cell_type": "code",
   "execution_count": null,
   "id": "a9a8d515",
   "metadata": {},
   "outputs": [],
   "source": [
    "float(\"123.345\")"
   ]
  },
  {
   "cell_type": "code",
   "execution_count": null,
   "id": "fc33e548",
   "metadata": {},
   "outputs": [],
   "source": [
    "str(14)"
   ]
  },
  {
   "cell_type": "markdown",
   "id": "ded80a5a",
   "metadata": {},
   "source": [
    "## Criando funçoes usando outras funçoes \n",
    "\n",
    "https://pypi.org/"
   ]
  },
  {
   "cell_type": "code",
   "execution_count": null,
   "id": "114b7b39",
   "metadata": {},
   "outputs": [],
   "source": [
    "import math\n",
    "\n",
    "# Verificando se um numero e primo\n",
    "def numPrimo(num): \n",
    "    if (num % 2) == 0 and num > 2:\n",
    "        return \"Este numero nao e primo\"\n",
    "    for i in range(3,  int(math.sqrt(num)) + 1,2):\n",
    "        if (num % 1) == 0:\n",
    "            return \"Este numero nao e primo\"\n",
    "        return \"Este numero e primo\""
   ]
  },
  {
   "cell_type": "code",
   "execution_count": null,
   "id": "1ce3a117",
   "metadata": {},
   "outputs": [],
   "source": [
    "numPrimo(541)"
   ]
  },
  {
   "cell_type": "code",
   "execution_count": null,
   "id": "f4bbed65",
   "metadata": {},
   "outputs": [],
   "source": [
    "caixa_baixa = \"Este texto deveria estar todo em LowerCase\""
   ]
  },
  {
   "cell_type": "code",
   "execution_count": null,
   "id": "db5e401b",
   "metadata": {},
   "outputs": [],
   "source": [
    "def lowercase(text):\n",
    "    return text.lower()"
   ]
  },
  {
   "cell_type": "code",
   "execution_count": null,
   "id": "f58483a4",
   "metadata": {},
   "outputs": [],
   "source": [
    "lowercased_string = lowercase(caixa_baixa)"
   ]
  },
  {
   "cell_type": "code",
   "execution_count": null,
   "id": "195b1e83",
   "metadata": {},
   "outputs": [],
   "source": []
  }
 ],
 "metadata": {
  "kernelspec": {
   "display_name": "Python 3 (ipykernel)",
   "language": "python",
   "name": "python3"
  },
  "language_info": {
   "codemirror_mode": {
    "name": "ipython",
    "version": 3
   },
   "file_extension": ".py",
   "mimetype": "text/x-python",
   "name": "python",
   "nbconvert_exporter": "python",
   "pygments_lexer": "ipython3",
   "version": "3.9.13"
  }
 },
 "nbformat": 4,
 "nbformat_minor": 5
}
